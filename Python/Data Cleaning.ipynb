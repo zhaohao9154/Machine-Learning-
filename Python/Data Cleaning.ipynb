{
 "cells": [
  {
   "cell_type": "code",
   "execution_count": 1,
   "metadata": {},
   "outputs": [],
   "source": [
    "import pandas as pd\n",
    "import numpy as np\n",
    "from matplotlib import pyplot"
   ]
  },
  {
   "cell_type": "code",
   "execution_count": 2,
   "metadata": {},
   "outputs": [
    {
     "data": {
      "text/plain": [
       "(18435, 36)"
      ]
     },
     "execution_count": 2,
     "metadata": {},
     "output_type": "execute_result"
    }
   ],
   "source": [
    "df = pd.read_csv(\"FullDataSet.csv\")\n",
    "df = df.copy()\n",
    "df.shape"
   ]
  },
  {
   "cell_type": "code",
   "execution_count": 8,
   "metadata": {},
   "outputs": [
    {
     "data": {
      "text/html": [
       "<div>\n",
       "<style scoped>\n",
       "    .dataframe tbody tr th:only-of-type {\n",
       "        vertical-align: middle;\n",
       "    }\n",
       "\n",
       "    .dataframe tbody tr th {\n",
       "        vertical-align: top;\n",
       "    }\n",
       "\n",
       "    .dataframe thead th {\n",
       "        text-align: right;\n",
       "    }\n",
       "</style>\n",
       "<table border=\"1\" class=\"dataframe\">\n",
       "  <thead>\n",
       "    <tr style=\"text-align: right;\">\n",
       "      <th></th>\n",
       "      <th>longWt</th>\n",
       "      <th>ZipID</th>\n",
       "      <th>DOBMM</th>\n",
       "      <th>AGE</th>\n",
       "      <th>IncomeTaxReturn</th>\n",
       "      <th>FamilySize</th>\n",
       "      <th>YearsEduc</th>\n",
       "      <th>EducationCode</th>\n",
       "      <th>GenderX</th>\n",
       "      <th>RaceX</th>\n",
       "      <th>...</th>\n",
       "      <th>TotalEROPExpenses</th>\n",
       "      <th>TotalOBOPExpenses</th>\n",
       "      <th>TotalOPExpenses</th>\n",
       "      <th>TotalEROPVisits</th>\n",
       "      <th>TotalOBOPVisits</th>\n",
       "      <th>TotalOPVisits</th>\n",
       "      <th>IPVisits</th>\n",
       "      <th>IPExpenses</th>\n",
       "      <th>TotalExpenses</th>\n",
       "      <th>TotalVisits</th>\n",
       "    </tr>\n",
       "  </thead>\n",
       "  <tbody>\n",
       "    <tr>\n",
       "      <th>count</th>\n",
       "      <td>18435.000000</td>\n",
       "      <td>1.843500e+04</td>\n",
       "      <td>18435.000000</td>\n",
       "      <td>18435.000000</td>\n",
       "      <td>18435.000000</td>\n",
       "      <td>18435.000000</td>\n",
       "      <td>18435.000000</td>\n",
       "      <td>18435.000000</td>\n",
       "      <td>18435.000000</td>\n",
       "      <td>18435.000000</td>\n",
       "      <td>...</td>\n",
       "      <td>18435.000000</td>\n",
       "      <td>18435.000000</td>\n",
       "      <td>18435.000000</td>\n",
       "      <td>18435.000000</td>\n",
       "      <td>18435.000000</td>\n",
       "      <td>18435.000000</td>\n",
       "      <td>18435.000000</td>\n",
       "      <td>18435.000000</td>\n",
       "      <td>18435.000000</td>\n",
       "      <td>18435.000000</td>\n",
       "    </tr>\n",
       "    <tr>\n",
       "      <th>mean</th>\n",
       "      <td>19712.619149</td>\n",
       "      <td>5.917589e+07</td>\n",
       "      <td>6.601193</td>\n",
       "      <td>39.677733</td>\n",
       "      <td>26784.910551</td>\n",
       "      <td>3.215460</td>\n",
       "      <td>12.202549</td>\n",
       "      <td>1.645349</td>\n",
       "      <td>1.539083</td>\n",
       "      <td>1.388283</td>\n",
       "      <td>...</td>\n",
       "      <td>506.081150</td>\n",
       "      <td>496.573583</td>\n",
       "      <td>1002.654733</td>\n",
       "      <td>1.644209</td>\n",
       "      <td>8.264388</td>\n",
       "      <td>9.908598</td>\n",
       "      <td>0.096718</td>\n",
       "      <td>836.600542</td>\n",
       "      <td>1839.255275</td>\n",
       "      <td>10.005316</td>\n",
       "    </tr>\n",
       "    <tr>\n",
       "      <th>std</th>\n",
       "      <td>12849.430577</td>\n",
       "      <td>3.515092e+07</td>\n",
       "      <td>3.420290</td>\n",
       "      <td>12.934002</td>\n",
       "      <td>28212.960713</td>\n",
       "      <td>1.788208</td>\n",
       "      <td>3.620923</td>\n",
       "      <td>1.375937</td>\n",
       "      <td>0.498484</td>\n",
       "      <td>0.924592</td>\n",
       "      <td>...</td>\n",
       "      <td>2314.638252</td>\n",
       "      <td>1563.707560</td>\n",
       "      <td>3172.980374</td>\n",
       "      <td>7.815663</td>\n",
       "      <td>16.165960</td>\n",
       "      <td>20.636586</td>\n",
       "      <td>0.410251</td>\n",
       "      <td>10687.764341</td>\n",
       "      <td>11497.575059</td>\n",
       "      <td>20.751974</td>\n",
       "    </tr>\n",
       "    <tr>\n",
       "      <th>min</th>\n",
       "      <td>807.651990</td>\n",
       "      <td>2.000201e+07</td>\n",
       "      <td>1.000000</td>\n",
       "      <td>18.000000</td>\n",
       "      <td>-153198.000000</td>\n",
       "      <td>-1.000000</td>\n",
       "      <td>-8.000000</td>\n",
       "      <td>0.000000</td>\n",
       "      <td>1.000000</td>\n",
       "      <td>1.000000</td>\n",
       "      <td>...</td>\n",
       "      <td>-9.000000</td>\n",
       "      <td>-4.000000</td>\n",
       "      <td>-13.000000</td>\n",
       "      <td>-7.000000</td>\n",
       "      <td>-4.000000</td>\n",
       "      <td>-11.000000</td>\n",
       "      <td>-1.000000</td>\n",
       "      <td>-1.000000</td>\n",
       "      <td>-14.000000</td>\n",
       "      <td>-12.000000</td>\n",
       "    </tr>\n",
       "    <tr>\n",
       "      <th>25%</th>\n",
       "      <td>9868.662714</td>\n",
       "      <td>2.405602e+07</td>\n",
       "      <td>4.000000</td>\n",
       "      <td>29.000000</td>\n",
       "      <td>7774.000000</td>\n",
       "      <td>2.000000</td>\n",
       "      <td>11.000000</td>\n",
       "      <td>0.000000</td>\n",
       "      <td>1.000000</td>\n",
       "      <td>1.000000</td>\n",
       "      <td>...</td>\n",
       "      <td>0.000000</td>\n",
       "      <td>0.000000</td>\n",
       "      <td>0.000000</td>\n",
       "      <td>0.000000</td>\n",
       "      <td>0.000000</td>\n",
       "      <td>0.000000</td>\n",
       "      <td>0.000000</td>\n",
       "      <td>0.000000</td>\n",
       "      <td>0.000000</td>\n",
       "      <td>0.000000</td>\n",
       "    </tr>\n",
       "    <tr>\n",
       "      <th>50%</th>\n",
       "      <td>17654.686650</td>\n",
       "      <td>9.001401e+07</td>\n",
       "      <td>7.000000</td>\n",
       "      <td>39.000000</td>\n",
       "      <td>19700.000000</td>\n",
       "      <td>3.000000</td>\n",
       "      <td>12.000000</td>\n",
       "      <td>1.000000</td>\n",
       "      <td>2.000000</td>\n",
       "      <td>1.000000</td>\n",
       "      <td>...</td>\n",
       "      <td>0.000000</td>\n",
       "      <td>92.000000</td>\n",
       "      <td>145.000000</td>\n",
       "      <td>0.000000</td>\n",
       "      <td>3.000000</td>\n",
       "      <td>4.000000</td>\n",
       "      <td>0.000000</td>\n",
       "      <td>0.000000</td>\n",
       "      <td>151.000000</td>\n",
       "      <td>4.000000</td>\n",
       "    </tr>\n",
       "    <tr>\n",
       "      <th>75%</th>\n",
       "      <td>26547.239140</td>\n",
       "      <td>9.417202e+07</td>\n",
       "      <td>10.000000</td>\n",
       "      <td>50.000000</td>\n",
       "      <td>36594.500000</td>\n",
       "      <td>4.000000</td>\n",
       "      <td>14.000000</td>\n",
       "      <td>3.000000</td>\n",
       "      <td>2.000000</td>\n",
       "      <td>1.000000</td>\n",
       "      <td>...</td>\n",
       "      <td>124.000000</td>\n",
       "      <td>400.000000</td>\n",
       "      <td>723.000000</td>\n",
       "      <td>1.000000</td>\n",
       "      <td>10.000000</td>\n",
       "      <td>11.000000</td>\n",
       "      <td>0.000000</td>\n",
       "      <td>0.000000</td>\n",
       "      <td>875.000000</td>\n",
       "      <td>11.000000</td>\n",
       "    </tr>\n",
       "    <tr>\n",
       "      <th>max</th>\n",
       "      <td>115176.733800</td>\n",
       "      <td>9.835602e+07</td>\n",
       "      <td>12.000000</td>\n",
       "      <td>65.000000</td>\n",
       "      <td>521612.000000</td>\n",
       "      <td>14.000000</td>\n",
       "      <td>17.000000</td>\n",
       "      <td>4.000000</td>\n",
       "      <td>2.000000</td>\n",
       "      <td>6.000000</td>\n",
       "      <td>...</td>\n",
       "      <td>104205.000000</td>\n",
       "      <td>49027.000000</td>\n",
       "      <td>105448.000000</td>\n",
       "      <td>348.000000</td>\n",
       "      <td>357.000000</td>\n",
       "      <td>484.000000</td>\n",
       "      <td>9.000000</td>\n",
       "      <td>937517.000000</td>\n",
       "      <td>937517.000000</td>\n",
       "      <td>485.000000</td>\n",
       "    </tr>\n",
       "  </tbody>\n",
       "</table>\n",
       "<p>8 rows × 28 columns</p>\n",
       "</div>"
      ],
      "text/plain": [
       "              longWt         ZipID         DOBMM           AGE  \\\n",
       "count   18435.000000  1.843500e+04  18435.000000  18435.000000   \n",
       "mean    19712.619149  5.917589e+07      6.601193     39.677733   \n",
       "std     12849.430577  3.515092e+07      3.420290     12.934002   \n",
       "min       807.651990  2.000201e+07      1.000000     18.000000   \n",
       "25%      9868.662714  2.405602e+07      4.000000     29.000000   \n",
       "50%     17654.686650  9.001401e+07      7.000000     39.000000   \n",
       "75%     26547.239140  9.417202e+07     10.000000     50.000000   \n",
       "max    115176.733800  9.835602e+07     12.000000     65.000000   \n",
       "\n",
       "       IncomeTaxReturn    FamilySize     YearsEduc  EducationCode  \\\n",
       "count     18435.000000  18435.000000  18435.000000   18435.000000   \n",
       "mean      26784.910551      3.215460     12.202549       1.645349   \n",
       "std       28212.960713      1.788208      3.620923       1.375937   \n",
       "min     -153198.000000     -1.000000     -8.000000       0.000000   \n",
       "25%        7774.000000      2.000000     11.000000       0.000000   \n",
       "50%       19700.000000      3.000000     12.000000       1.000000   \n",
       "75%       36594.500000      4.000000     14.000000       3.000000   \n",
       "max      521612.000000     14.000000     17.000000       4.000000   \n",
       "\n",
       "            GenderX         RaceX  ...  TotalEROPExpenses  TotalOBOPExpenses  \\\n",
       "count  18435.000000  18435.000000  ...       18435.000000       18435.000000   \n",
       "mean       1.539083      1.388283  ...         506.081150         496.573583   \n",
       "std        0.498484      0.924592  ...        2314.638252        1563.707560   \n",
       "min        1.000000      1.000000  ...          -9.000000          -4.000000   \n",
       "25%        1.000000      1.000000  ...           0.000000           0.000000   \n",
       "50%        2.000000      1.000000  ...           0.000000          92.000000   \n",
       "75%        2.000000      1.000000  ...         124.000000         400.000000   \n",
       "max        2.000000      6.000000  ...      104205.000000       49027.000000   \n",
       "\n",
       "       TotalOPExpenses  TotalEROPVisits  TotalOBOPVisits  TotalOPVisits  \\\n",
       "count     18435.000000     18435.000000     18435.000000   18435.000000   \n",
       "mean       1002.654733         1.644209         8.264388       9.908598   \n",
       "std        3172.980374         7.815663        16.165960      20.636586   \n",
       "min         -13.000000        -7.000000        -4.000000     -11.000000   \n",
       "25%           0.000000         0.000000         0.000000       0.000000   \n",
       "50%         145.000000         0.000000         3.000000       4.000000   \n",
       "75%         723.000000         1.000000        10.000000      11.000000   \n",
       "max      105448.000000       348.000000       357.000000     484.000000   \n",
       "\n",
       "           IPVisits     IPExpenses  TotalExpenses   TotalVisits  \n",
       "count  18435.000000   18435.000000   18435.000000  18435.000000  \n",
       "mean       0.096718     836.600542    1839.255275     10.005316  \n",
       "std        0.410251   10687.764341   11497.575059     20.751974  \n",
       "min       -1.000000      -1.000000     -14.000000    -12.000000  \n",
       "25%        0.000000       0.000000       0.000000      0.000000  \n",
       "50%        0.000000       0.000000     151.000000      4.000000  \n",
       "75%        0.000000       0.000000     875.000000     11.000000  \n",
       "max        9.000000  937517.000000  937517.000000    485.000000  \n",
       "\n",
       "[8 rows x 28 columns]"
      ]
     },
     "execution_count": 8,
     "metadata": {},
     "output_type": "execute_result"
    }
   ],
   "source": [
    "df.describe()"
   ]
  },
  {
   "cell_type": "code",
   "execution_count": 20,
   "metadata": {},
   "outputs": [
    {
     "ename": "TypeError",
     "evalue": "'<' not supported between instances of 'AxesSubplot' and 'float'",
     "output_type": "error",
     "traceback": [
      "\u001b[1;31m---------------------------------------------------------------------------\u001b[0m",
      "\u001b[1;31mTypeError\u001b[0m                                 Traceback (most recent call last)",
      "\u001b[1;32m<ipython-input-20-3f374be0d33d>\u001b[0m in \u001b[0;36m<module>\u001b[1;34m\u001b[0m\n\u001b[0;32m      1\u001b[0m \u001b[0mx\u001b[0m\u001b[1;33m=\u001b[0m\u001b[0mdf\u001b[0m\u001b[1;33m.\u001b[0m\u001b[0mAGE\u001b[0m\u001b[1;33m.\u001b[0m\u001b[0mhist\u001b[0m\u001b[1;33m(\u001b[0m\u001b[1;33m)\u001b[0m\u001b[1;33m\u001b[0m\u001b[1;33m\u001b[0m\u001b[0m\n\u001b[1;32m----> 2\u001b[1;33m \u001b[0mpyplot\u001b[0m\u001b[1;33m.\u001b[0m\u001b[0mhist\u001b[0m\u001b[1;33m(\u001b[0m\u001b[0mx\u001b[0m\u001b[1;33m,\u001b[0m\u001b[1;36m10\u001b[0m\u001b[1;33m)\u001b[0m\u001b[1;33m\u001b[0m\u001b[1;33m\u001b[0m\u001b[0m\n\u001b[0m",
      "\u001b[1;32m~\\Anaconda3\\lib\\site-packages\\matplotlib\\pyplot.py\u001b[0m in \u001b[0;36mhist\u001b[1;34m(x, bins, range, density, weights, cumulative, bottom, histtype, align, orientation, rwidth, log, color, label, stacked, normed, data, **kwargs)\u001b[0m\n\u001b[0;32m   2634\u001b[0m         \u001b[0malign\u001b[0m\u001b[1;33m=\u001b[0m\u001b[0malign\u001b[0m\u001b[1;33m,\u001b[0m \u001b[0morientation\u001b[0m\u001b[1;33m=\u001b[0m\u001b[0morientation\u001b[0m\u001b[1;33m,\u001b[0m \u001b[0mrwidth\u001b[0m\u001b[1;33m=\u001b[0m\u001b[0mrwidth\u001b[0m\u001b[1;33m,\u001b[0m \u001b[0mlog\u001b[0m\u001b[1;33m=\u001b[0m\u001b[0mlog\u001b[0m\u001b[1;33m,\u001b[0m\u001b[1;33m\u001b[0m\u001b[1;33m\u001b[0m\u001b[0m\n\u001b[0;32m   2635\u001b[0m         \u001b[0mcolor\u001b[0m\u001b[1;33m=\u001b[0m\u001b[0mcolor\u001b[0m\u001b[1;33m,\u001b[0m \u001b[0mlabel\u001b[0m\u001b[1;33m=\u001b[0m\u001b[0mlabel\u001b[0m\u001b[1;33m,\u001b[0m \u001b[0mstacked\u001b[0m\u001b[1;33m=\u001b[0m\u001b[0mstacked\u001b[0m\u001b[1;33m,\u001b[0m \u001b[0mnormed\u001b[0m\u001b[1;33m=\u001b[0m\u001b[0mnormed\u001b[0m\u001b[1;33m,\u001b[0m\u001b[1;33m\u001b[0m\u001b[1;33m\u001b[0m\u001b[0m\n\u001b[1;32m-> 2636\u001b[1;33m         **({\"data\": data} if data is not None else {}), **kwargs)\n\u001b[0m\u001b[0;32m   2637\u001b[0m \u001b[1;33m\u001b[0m\u001b[0m\n\u001b[0;32m   2638\u001b[0m \u001b[1;33m\u001b[0m\u001b[0m\n",
      "\u001b[1;32m~\\Anaconda3\\lib\\site-packages\\matplotlib\\__init__.py\u001b[0m in \u001b[0;36minner\u001b[1;34m(ax, data, *args, **kwargs)\u001b[0m\n\u001b[0;32m   1587\u001b[0m     \u001b[1;32mdef\u001b[0m \u001b[0minner\u001b[0m\u001b[1;33m(\u001b[0m\u001b[0max\u001b[0m\u001b[1;33m,\u001b[0m \u001b[1;33m*\u001b[0m\u001b[0margs\u001b[0m\u001b[1;33m,\u001b[0m \u001b[0mdata\u001b[0m\u001b[1;33m=\u001b[0m\u001b[1;32mNone\u001b[0m\u001b[1;33m,\u001b[0m \u001b[1;33m**\u001b[0m\u001b[0mkwargs\u001b[0m\u001b[1;33m)\u001b[0m\u001b[1;33m:\u001b[0m\u001b[1;33m\u001b[0m\u001b[1;33m\u001b[0m\u001b[0m\n\u001b[0;32m   1588\u001b[0m         \u001b[1;32mif\u001b[0m \u001b[0mdata\u001b[0m \u001b[1;32mis\u001b[0m \u001b[1;32mNone\u001b[0m\u001b[1;33m:\u001b[0m\u001b[1;33m\u001b[0m\u001b[1;33m\u001b[0m\u001b[0m\n\u001b[1;32m-> 1589\u001b[1;33m             \u001b[1;32mreturn\u001b[0m \u001b[0mfunc\u001b[0m\u001b[1;33m(\u001b[0m\u001b[0max\u001b[0m\u001b[1;33m,\u001b[0m \u001b[1;33m*\u001b[0m\u001b[0mmap\u001b[0m\u001b[1;33m(\u001b[0m\u001b[0msanitize_sequence\u001b[0m\u001b[1;33m,\u001b[0m \u001b[0margs\u001b[0m\u001b[1;33m)\u001b[0m\u001b[1;33m,\u001b[0m \u001b[1;33m**\u001b[0m\u001b[0mkwargs\u001b[0m\u001b[1;33m)\u001b[0m\u001b[1;33m\u001b[0m\u001b[1;33m\u001b[0m\u001b[0m\n\u001b[0m\u001b[0;32m   1590\u001b[0m \u001b[1;33m\u001b[0m\u001b[0m\n\u001b[0;32m   1591\u001b[0m         \u001b[0mbound\u001b[0m \u001b[1;33m=\u001b[0m \u001b[0mnew_sig\u001b[0m\u001b[1;33m.\u001b[0m\u001b[0mbind\u001b[0m\u001b[1;33m(\u001b[0m\u001b[0max\u001b[0m\u001b[1;33m,\u001b[0m \u001b[1;33m*\u001b[0m\u001b[0margs\u001b[0m\u001b[1;33m,\u001b[0m \u001b[1;33m**\u001b[0m\u001b[0mkwargs\u001b[0m\u001b[1;33m)\u001b[0m\u001b[1;33m\u001b[0m\u001b[1;33m\u001b[0m\u001b[0m\n",
      "\u001b[1;32m~\\Anaconda3\\lib\\site-packages\\matplotlib\\axes\\_axes.py\u001b[0m in \u001b[0;36mhist\u001b[1;34m(self, x, bins, range, density, weights, cumulative, bottom, histtype, align, orientation, rwidth, log, color, label, stacked, normed, **kwargs)\u001b[0m\n\u001b[0;32m   6719\u001b[0m                     \u001b[1;31m# python's min/max ignore nan,\u001b[0m\u001b[1;33m\u001b[0m\u001b[1;33m\u001b[0m\u001b[1;33m\u001b[0m\u001b[0m\n\u001b[0;32m   6720\u001b[0m                     \u001b[1;31m# np.minnan returns nan for all nan input\u001b[0m\u001b[1;33m\u001b[0m\u001b[1;33m\u001b[0m\u001b[1;33m\u001b[0m\u001b[0m\n\u001b[1;32m-> 6721\u001b[1;33m                     \u001b[0mxmin\u001b[0m \u001b[1;33m=\u001b[0m \u001b[0mmin\u001b[0m\u001b[1;33m(\u001b[0m\u001b[0mxmin\u001b[0m\u001b[1;33m,\u001b[0m \u001b[0mnp\u001b[0m\u001b[1;33m.\u001b[0m\u001b[0mnanmin\u001b[0m\u001b[1;33m(\u001b[0m\u001b[0mxi\u001b[0m\u001b[1;33m)\u001b[0m\u001b[1;33m)\u001b[0m\u001b[1;33m\u001b[0m\u001b[1;33m\u001b[0m\u001b[0m\n\u001b[0m\u001b[0;32m   6722\u001b[0m                     \u001b[0mxmax\u001b[0m \u001b[1;33m=\u001b[0m \u001b[0mmax\u001b[0m\u001b[1;33m(\u001b[0m\u001b[0mxmax\u001b[0m\u001b[1;33m,\u001b[0m \u001b[0mnp\u001b[0m\u001b[1;33m.\u001b[0m\u001b[0mnanmax\u001b[0m\u001b[1;33m(\u001b[0m\u001b[0mxi\u001b[0m\u001b[1;33m)\u001b[0m\u001b[1;33m)\u001b[0m\u001b[1;33m\u001b[0m\u001b[1;33m\u001b[0m\u001b[0m\n\u001b[0;32m   6723\u001b[0m             \u001b[1;31m# make sure we have seen at least one non-nan and finite\u001b[0m\u001b[1;33m\u001b[0m\u001b[1;33m\u001b[0m\u001b[1;33m\u001b[0m\u001b[0m\n",
      "\u001b[1;31mTypeError\u001b[0m: '<' not supported between instances of 'AxesSubplot' and 'float'"
     ]
    },
    {
     "data": {
      "image/png": "[encoded data removed]",
      "text/plain": [
       "<Figure size 432x288 with 1 Axes>"
      ]
     },
     "metadata": {
      "needs_background": "light"
     },
     "output_type": "display_data"
    }
   ],
   "source": [
    "x=df.AGE.hist()\n",
    "pyplot.hist(x,10)"
   ]
  },
  {
   "cell_type": "code",
   "execution_count": 19,
   "metadata": {},
   "outputs": [
    {
     "data": {
      "text/plain": [
       "Index(['longWt', 'ZipID', 'DOBMM', 'AGE', 'IncomeTaxReturn', 'FamilySize',\n",
       "       'YearsEduc', 'Education', 'EducationCode', 'GenderX', 'Gender', 'RaceX',\n",
       "       'Race', 'RegionX', 'Region', 'PhysicalLimitX', 'MentalHealthX',\n",
       "       'Mental Health', 'SelfPercHealthX', 'IndustryX', 'Industry',\n",
       "       'MaritalStatusX', 'Marital Status', 'InsuranceCoverageX', 'Insurance',\n",
       "       'HasUSC', 'TotalEROPExpenses', 'TotalOBOPExpenses', 'TotalOPExpenses',\n",
       "       'TotalEROPVisits', 'TotalOBOPVisits', 'TotalOPVisits', 'IPVisits',\n",
       "       'IPExpenses', 'TotalExpenses', 'TotalVisits'],\n",
       "      dtype='object')"
      ]
     },
     "execution_count": 19,
     "metadata": {},
     "output_type": "execute_result"
    }
   ],
   "source": [
    "df.columns"
   ]
  },
  {
   "cell_type": "code",
   "execution_count": 143,
   "metadata": {},
   "outputs": [
    {
     "data": {
      "text/plain": [
       "Index(['longWt', 'ZipID', 'DOBMM', 'AGE', 'IncomeTaxReturn', 'FamilySize',\n",
       "       'YearsEduc', 'Education', 'EducationCode', 'GenderX', 'Gender', 'RaceX',\n",
       "       'Race', 'RegionX', 'Region', 'PhysicalLimitX', 'MentalHealthX',\n",
       "       'Mental Health', 'SelfPercHealthX', 'IndustryX', 'Industry',\n",
       "       'MaritalStatusX', 'Marital Status', 'InsuranceCoverageX', 'Insurance',\n",
       "       'HasUSC', 'TotalEROPExpenses', 'TotalOBOPExpenses', 'TotalOPExpenses',\n",
       "       'TotalEROPVisits', 'TotalOBOPVisits', 'TotalOPVisits', 'IPVisits',\n",
       "       'IPExpenses', 'TotalExpenses', 'TotalVisits'],\n",
       "      dtype='object')"
      ]
     },
     "execution_count": 143,
     "metadata": {},
     "output_type": "execute_result"
    }
   ],
   "source": [
    "df.columns"
   ]
  },
  {
   "cell_type": "code",
   "execution_count": 144,
   "metadata": {},
   "outputs": [
    {
     "data": {
      "text/plain": [
       "-1.0     5589\n",
       " 10.0    2651\n",
       " 5.0     1796\n",
       " 4.0     1653\n",
       " 9.0     1283\n",
       " 11.0    1073\n",
       " 3.0     1005\n",
       " 8.0      780\n",
       " 12.0     696\n",
       " 13.0     626\n",
       " 6.0      576\n",
       " 7.0      272\n",
       " 1.0      256\n",
       " 2.0       67\n",
       "-9.0       48\n",
       " 15.0      43\n",
       " 14.0      21\n",
       "Name: IndustryX, dtype: int64"
      ]
     },
     "execution_count": 144,
     "metadata": {},
     "output_type": "execute_result"
    }
   ],
   "source": [
    "df.IndustryX.value_counts()"
   ]
  },
  {
   "cell_type": "code",
   "execution_count": 233,
   "metadata": {},
   "outputs": [
    {
     "data": {
      "text/plain": [
       "na                          5589\n",
       "educ health social          2651\n",
       "wholesale retail            1796\n",
       "manufacturing               1653\n",
       "professional business       1283\n",
       "leisure hospitality         1073\n",
       "construction                1005\n",
       "financial                    780\n",
       "other                        696\n",
       "public administration        626\n",
       "transportation utilities     576\n",
       "information                  272\n",
       "natural resources            256\n",
       "mining                        67\n",
       "Not Ascertained               48\n",
       "unclassified                  43\n",
       "military                      21\n",
       "Name: Industry, dtype: int64"
      ]
     },
     "execution_count": 233,
     "metadata": {},
     "output_type": "execute_result"
    }
   ],
   "source": [
    "df.Industry.value_counts()"
   ]
  },
  {
   "cell_type": "code",
   "execution_count": 234,
   "metadata": {},
   "outputs": [],
   "source": [
    "#recode industryx with -1 as 16\n",
    "df.loc[df.IndustryX == -1.0, 'IndustryX'] = 16\n",
    "#recode industry with na as notworking\n",
    "df.loc[df.Industry == 'na', 'Industry'] = 'NotWorking'\n"
   ]
  },
  {
   "cell_type": "code",
   "execution_count": 235,
   "metadata": {},
   "outputs": [],
   "source": [
    "#get rid of rows with Industry NA\n",
    "df = df[df.IndustryX != -9.0]"
   ]
  },
  {
   "cell_type": "code",
   "execution_count": 236,
   "metadata": {},
   "outputs": [
    {
     "data": {
      "text/plain": [
       "16.0    5589\n",
       "10.0    2651\n",
       "5.0     1796\n",
       "4.0     1653\n",
       "9.0     1283\n",
       "11.0    1073\n",
       "3.0     1005\n",
       "8.0      780\n",
       "12.0     696\n",
       "13.0     626\n",
       "6.0      576\n",
       "7.0      272\n",
       "1.0      256\n",
       "2.0       67\n",
       "15.0      43\n",
       "14.0      21\n",
       "Name: IndustryX, dtype: int64"
      ]
     },
     "execution_count": 236,
     "metadata": {},
     "output_type": "execute_result"
    }
   ],
   "source": [
    "df.IndustryX.value_counts()"
   ]
  },
  {
   "cell_type": "code",
   "execution_count": 237,
   "metadata": {},
   "outputs": [
    {
     "data": {
      "text/plain": [
       "White                      14350\n",
       "Black                       2696\n",
       "Asian                        849\n",
       "Multiple Races Reported      251\n",
       "Native American              166\n",
       "Native Hawaiian               75\n",
       "Name: Race, dtype: int64"
      ]
     },
     "execution_count": 237,
     "metadata": {},
     "output_type": "execute_result"
    }
   ],
   "source": [
    "df.Race.value_counts()\n"
   ]
  },
  {
   "cell_type": "code",
   "execution_count": 238,
   "metadata": {},
   "outputs": [
    {
     "data": {
      "text/plain": [
       "(18387, 36)"
      ]
     },
     "execution_count": 238,
     "metadata": {},
     "output_type": "execute_result"
    }
   ],
   "source": [
    "df.shape"
   ]
  },
  {
   "cell_type": "code",
   "execution_count": 239,
   "metadata": {},
   "outputs": [],
   "source": [
    "#Combine races into 3 categories\n",
    "df.loc[df.RaceX == 6.0, 'RaceX'] = 3\n",
    "df.loc[df.RaceX == 5.0, 'RaceX'] = 3\n",
    "df.loc[df.RaceX == 4.0, 'RaceX'] = 3"
   ]
  },
  {
   "cell_type": "code",
   "execution_count": 240,
   "metadata": {},
   "outputs": [],
   "source": [
    "#Combine race names into 3 categories\n",
    "df.loc[df.Race == 'Asian', 'Race'] = 'All Other'\n",
    "df.loc[df.Race == 'Native American', 'Race'] = 'All Other'\n",
    "df.loc[df.Race == 'Native Hawaiian', 'Race'] = 'All Other'\n",
    "df.loc[df.Race == 'Multiple Races Reported', 'Race'] = 'All Other'"
   ]
  },
  {
   "cell_type": "code",
   "execution_count": 241,
   "metadata": {},
   "outputs": [
    {
     "data": {
      "text/plain": [
       "1.0    14350\n",
       "2.0     2696\n",
       "3.0     1341\n",
       "Name: RaceX, dtype: int64"
      ]
     },
     "execution_count": 241,
     "metadata": {},
     "output_type": "execute_result"
    }
   ],
   "source": [
    "df.RaceX.value_counts()"
   ]
  },
  {
   "cell_type": "code",
   "execution_count": 242,
   "metadata": {},
   "outputs": [
    {
     "data": {
      "text/plain": [
       " 3.0    7131\n",
       " 4.0    4828\n",
       " 2.0    3595\n",
       " 1.0    2658\n",
       "-1.0     175\n",
       "Name: RegionX, dtype: int64"
      ]
     },
     "execution_count": 242,
     "metadata": {},
     "output_type": "execute_result"
    }
   ],
   "source": [
    "df.RegionX.value_counts()"
   ]
  },
  {
   "cell_type": "code",
   "execution_count": 243,
   "metadata": {},
   "outputs": [
    {
     "data": {
      "text/plain": [
       "South        7131\n",
       "West         4828\n",
       "Midwest      3595\n",
       "Northeast    2658\n",
       "Name: Region, dtype: int64"
      ]
     },
     "execution_count": 243,
     "metadata": {},
     "output_type": "execute_result"
    }
   ],
   "source": [
    "df.Region.value_counts()"
   ]
  },
  {
   "cell_type": "code",
   "execution_count": 244,
   "metadata": {},
   "outputs": [],
   "source": [
    "#Change region -1 / na to 5 / none\n",
    "df.loc[df.RegionX == -1.0, 'Region'] = 'None'\n",
    "df.loc[df.RegionX == -1.0, 'RegionX'] = 5"
   ]
  },
  {
   "cell_type": "code",
   "execution_count": 245,
   "metadata": {},
   "outputs": [
    {
     "data": {
      "text/plain": [
       " 2.0     4612\n",
       " 4.0     3679\n",
       " 3.0     3520\n",
       " 1.0     2638\n",
       " 5.0     1979\n",
       " 6.0      936\n",
       " 7.0      461\n",
       " 8.0      209\n",
       "-1.0      179\n",
       " 9.0       80\n",
       " 10.0      48\n",
       " 12.0      19\n",
       " 11.0      17\n",
       " 13.0       7\n",
       " 14.0       3\n",
       "Name: FamilySize, dtype: int64"
      ]
     },
     "execution_count": 245,
     "metadata": {},
     "output_type": "execute_result"
    }
   ],
   "source": [
    "df.FamilySize.value_counts()"
   ]
  },
  {
   "cell_type": "code",
   "execution_count": 246,
   "metadata": {},
   "outputs": [],
   "source": [
    "#drop rows where family size is missing\n",
    "df = df[df.FamilySize != -1.0]"
   ]
  },
  {
   "cell_type": "code",
   "execution_count": 247,
   "metadata": {},
   "outputs": [
    {
     "data": {
      "image/png": "[encoded data removed]",
      "text/plain": [
       "<Figure size 432x288 with 1 Axes>"
      ]
     },
     "metadata": {
      "needs_background": "light"
     },
     "output_type": "display_data"
    }
   ],
   "source": [
    "i = df.IncomeTaxReturn\n",
    "hist = i.hist (bins = 50)"
   ]
  },
  {
   "cell_type": "code",
   "execution_count": 248,
   "metadata": {},
   "outputs": [],
   "source": [
    "#create quantile buckets\n",
    "a = round(df['IncomeTaxReturn'].quantile(q=0.1), 2)\n",
    "b = round(df['IncomeTaxReturn'].quantile(q=0.2), 2)\n",
    "c = round(df['IncomeTaxReturn'].quantile(q=0.3), 2)\n",
    "d = round(df['IncomeTaxReturn'].quantile(q=0.4), 2)\n",
    "e = round(df['IncomeTaxReturn'].quantile(q=0.5), 2)\n",
    "f = round(df['IncomeTaxReturn'].quantile(q=0.6), 2)\n",
    "g = round(df['IncomeTaxReturn'].quantile(q=0.7), 2)\n",
    "h = round(df['IncomeTaxReturn'].quantile(q=0.8), 2)\n",
    "i = round(df['IncomeTaxReturn'].quantile(q=0.9), 2)\n"
   ]
  },
  {
   "cell_type": "code",
   "execution_count": 249,
   "metadata": {},
   "outputs": [
    {
     "data": {
      "text/plain": [
       "[75.0, 6000.0, 10000.0, 15000.0, 20000.0, 25042.2, 32320.6, 42052.4, 60069.4]"
      ]
     },
     "execution_count": 249,
     "metadata": {},
     "output_type": "execute_result"
    }
   ],
   "source": [
    "amts = [a,b,c,d,e,f,g,h,i]\n",
    "amts"
   ]
  },
  {
   "cell_type": "code",
   "execution_count": 250,
   "metadata": {},
   "outputs": [],
   "source": [
    "#Create Conditions\n",
    "conditions =[\n",
    "    (df['IncomeTaxReturn'] > i),\n",
    "    (df['IncomeTaxReturn'].between(left=h, right = i)),\n",
    "    (df['IncomeTaxReturn'].between(left=g, right = h)),\n",
    "    (df['IncomeTaxReturn'].between(left=f, right = g)),\n",
    "    (df['IncomeTaxReturn'].between(left=e, right = f)),\n",
    "    (df['IncomeTaxReturn'].between(left=d, right = e)),\n",
    "    (df['IncomeTaxReturn'].between(left=c, right = d)),\n",
    "    (df['IncomeTaxReturn'].between(left=b, right = c)),\n",
    "    (df['IncomeTaxReturn'].between(left=a, right = b)),\n",
    "    (df['IncomeTaxReturn'] < a)\n",
    "]"
   ]
  },
  {
   "cell_type": "code",
   "execution_count": 251,
   "metadata": {},
   "outputs": [],
   "source": [
    "#create choices\n",
    "choices = [\n",
    "    100, 90, 80, 70, 60, 50, 40,30,20,10\n",
    "]"
   ]
  },
  {
   "cell_type": "code",
   "execution_count": 252,
   "metadata": {},
   "outputs": [],
   "source": [
    "df ['IncomePercentile'] = np.select(condlist = conditions, choicelist = choices)"
   ]
  },
  {
   "cell_type": "code",
   "execution_count": 253,
   "metadata": {},
   "outputs": [
    {
     "data": {
      "text/plain": [
       "50     1879\n",
       "40     1871\n",
       "60     1855\n",
       "90     1821\n",
       "100    1821\n",
       "80     1821\n",
       "70     1820\n",
       "10     1817\n",
       "20     1788\n",
       "30     1715\n",
       "Name: IncomePercentile, dtype: int64"
      ]
     },
     "execution_count": 253,
     "metadata": {},
     "output_type": "execute_result"
    }
   ],
   "source": [
    "df.IncomePercentile.value_counts()"
   ]
  },
  {
   "cell_type": "code",
   "execution_count": 254,
   "metadata": {},
   "outputs": [
    {
     "data": {
      "text/plain": [
       "(18208, 37)"
      ]
     },
     "execution_count": 254,
     "metadata": {},
     "output_type": "execute_result"
    }
   ],
   "source": [
    "df.shape"
   ]
  },
  {
   "cell_type": "code",
   "execution_count": 255,
   "metadata": {},
   "outputs": [
    {
     "data": {
      "text/plain": [
       "18208"
      ]
     },
     "execution_count": 255,
     "metadata": {},
     "output_type": "execute_result"
    }
   ],
   "source": [
    "df.IncomePercentile.count()"
   ]
  },
  {
   "cell_type": "code",
   "execution_count": 181,
   "metadata": {},
   "outputs": [],
   "source": [
    "#bucket Total expenses in quantiles\n",
    "#create quantile buckets\n",
    "a1 = round(df['TotalExpenses'].quantile(q=0.1), 2)\n",
    "b1 = round(df['TotalExpenses'].quantile(q=0.2), 2)\n",
    "c1 = round(df['TotalExpenses'].quantile(q=0.3), 2)\n",
    "d1 = round(df['TotalExpenses'].quantile(q=0.4), 2)\n",
    "e1 = round(df['TotalExpenses'].quantile(q=0.5), 2)\n",
    "f1 = round(df['TotalExpenses'].quantile(q=0.6), 2)\n",
    "g1 = round(df['TotalExpenses'].quantile(q=0.7), 2)\n",
    "h1 = round(df['TotalExpenses'].quantile(q=0.8), 2)\n",
    "i1 = round(df['TotalExpenses'].quantile(q=0.9), 2)\n"
   ]
  },
  {
   "cell_type": "code",
   "execution_count": 256,
   "metadata": {},
   "outputs": [],
   "source": [
    "#Option 2 - don't run both\n",
    "a1 = round(df['TotalExpenses'].quantile(q=0.4), 2)\n",
    "b1 = round(df['TotalExpenses'].quantile(q=0.45), 2)\n",
    "c1 = round(df['TotalExpenses'].quantile(q=0.5), 2)\n",
    "d1 = round(df['TotalExpenses'].quantile(q=0.55), 2)\n",
    "e1 = round(df['TotalExpenses'].quantile(q=0.6), 2)\n",
    "f1 = round(df['TotalExpenses'].quantile(q=0.65), 2)\n",
    "g1 = round(df['TotalExpenses'].quantile(q=0.7), 2)\n",
    "h1 = round(df['TotalExpenses'].quantile(q=0.75), 2)\n",
    "i1 = round(df['TotalExpenses'].quantile(q=0.8), 2)\n",
    "j1 = round(df['TotalExpenses'].quantile(q=0.85), 2)\n",
    "k1 = round(df['TotalExpenses'].quantile(q=0.9), 2)\n",
    "l1 = round(df['TotalExpenses'].quantile(q=0.95), 2)"
   ]
  },
  {
   "cell_type": "code",
   "execution_count": 215,
   "metadata": {},
   "outputs": [
    {
     "data": {
      "text/plain": [
       "[0.0, 0.0, 0.0, 65.0, 155.0, 307.0, 599.0, 1390.0, 3907.8]"
      ]
     },
     "execution_count": 215,
     "metadata": {},
     "output_type": "execute_result"
    }
   ],
   "source": [
    "amts2 = [a1,b1,c1,d1,e1,f1,g1,h1,i1]\n",
    "amts2"
   ]
  },
  {
   "cell_type": "code",
   "execution_count": 257,
   "metadata": {},
   "outputs": [
    {
     "data": {
      "text/plain": [
       "[65.0,\n",
       " 105.0,\n",
       " 155.0,\n",
       " 220.0,\n",
       " 307.0,\n",
       " 425.0,\n",
       " 599.0,\n",
       " 887.0,\n",
       " 1390.0,\n",
       " 2308.95,\n",
       " 3907.8,\n",
       " 7646.2]"
      ]
     },
     "execution_count": 257,
     "metadata": {},
     "output_type": "execute_result"
    }
   ],
   "source": [
    "#option 2\n",
    "amts2 = [a1,b1,c1,d1,e1,f1,g1,h1,i1, j1, k1, l1]\n",
    "amts2"
   ]
  },
  {
   "cell_type": "code",
   "execution_count": null,
   "metadata": {},
   "outputs": [],
   "source": [
    "conditions2 =[\n",
    "    (df['TotalExpenses'] > i1),\n",
    "    (df['TotalExpenses'].between(left=h1, right = i1)),\n",
    "    (df['TotalExpenses'].between(left=g1, right = h1)),\n",
    "    (df['TotalExpenses'].between(left=f1, right = g1)),\n",
    "    (df['TotalExpenses'].between(left=e1, right = f1)),\n",
    "    (df['TotalExpenses'].between(left=d1, right = e1)),\n",
    "    (df['TotalExpenses'].between(left=c1, right = d1)),\n",
    "    (df['TotalExpenses'].between(left=b1, right = c1)),\n",
    "    (df['TotalExpenses'].between(left=a1, right = b1)),\n",
    "    (df['TotalExpenses'] < a1)\n",
    "]"
   ]
  },
  {
   "cell_type": "code",
   "execution_count": 258,
   "metadata": {},
   "outputs": [],
   "source": [
    "#option 2\n",
    "conditions2 =[\n",
    "    (df['TotalExpenses'] > l1),\n",
    "    (df['TotalExpenses'].between(left=k1, right = l1)),\n",
    "    (df['TotalExpenses'].between(left=j1, right = k1)),\n",
    "    (df['TotalExpenses'].between(left=i1, right = j1)),\n",
    "    (df['TotalExpenses'].between(left=h1, right = i1)),\n",
    "    (df['TotalExpenses'].between(left=g1, right = h1)),\n",
    "    (df['TotalExpenses'].between(left=f1, right = g1)),\n",
    "    (df['TotalExpenses'].between(left=e1, right = f1)),\n",
    "    (df['TotalExpenses'].between(left=d1, right = e1)),\n",
    "    (df['TotalExpenses'].between(left=c1, right = d1)),\n",
    "    (df['TotalExpenses'].between(left=b1, right = c1)),\n",
    "    (df['TotalExpenses'].between(left=a1, right = b1)),\n",
    "    (df['TotalExpenses'] < a1)]\n",
    "    \n",
    "aOpt2 = round(df['TotalExpenses'].quantile(q=0.4), 2)\n",
    "bOpt2 = round(df['TotalExpenses'].quantile(q=0.45), 2)\n",
    "cOpt2 = round(df['TotalExpenses'].quantile(q=0.5), 2)\n",
    "dOpt2 = round(df['TotalExpenses'].quantile(q=0.55), 2)\n",
    "eOpt2 = round(df['TotalExpenses'].quantile(q=0.6), 2)\n",
    "fOpt2 = round(df['TotalExpenses'].quantile(q=0.65), 2)\n",
    "gOpt2 = round(df['TotalExpenses'].quantile(q=0.7), 2)\n",
    "hOpt2 = round(df['TotalExpenses'].quantile(q=0.75), 2)\n",
    "iOpt2 = round(df['TotalExpenses'].quantile(q=0.8), 2)\n",
    "jOpt2 = round(df['TotalExpenses'].quantile(q=0.85), 2)\n",
    "kOpt2 = round(df['TotalExpenses'].quantile(q=0.9), 2)\n",
    "lOpt2 = round(df['TotalExpenses'].quantile(q=0.95), 2)\n",
    "\n",
    "choices2 = [100,95,90,85,80,75,70,65,60,55,50,45, 40]\n",
    "\n",
    "    "
   ]
  },
  {
   "cell_type": "code",
   "execution_count": 259,
   "metadata": {},
   "outputs": [],
   "source": [
    "df ['ExpensePercentile'] = np.select(condlist = conditions2, choicelist = choices2)"
   ]
  },
  {
   "cell_type": "code",
   "execution_count": 260,
   "metadata": {},
   "outputs": [
    {
     "data": {
      "text/plain": [
       "40     7256\n",
       "45      927\n",
       "60      923\n",
       "75      914\n",
       "90      911\n",
       "70      911\n",
       "85      911\n",
       "100     911\n",
       "95      910\n",
       "80      910\n",
       "50      909\n",
       "65      908\n",
       "55      907\n",
       "Name: ExpensePercentile, dtype: int64"
      ]
     },
     "execution_count": 260,
     "metadata": {},
     "output_type": "execute_result"
    }
   ],
   "source": [
    "df.ExpensePercentile.value_counts()"
   ]
  },
  {
   "cell_type": "code",
   "execution_count": 261,
   "metadata": {},
   "outputs": [
    {
     "data": {
      "text/plain": [
       " 12.0    5908\n",
       " 16.0    2317\n",
       " 14.0    1943\n",
       " 17.0    1432\n",
       " 11.0    1227\n",
       " 13.0    1201\n",
       " 10.0     804\n",
       " 9.0      739\n",
       " 15.0     691\n",
       " 6.0      578\n",
       " 8.0      434\n",
       " 7.0      170\n",
       " 3.0      155\n",
       " 5.0      119\n",
       "-8.0      113\n",
       " 0.0      111\n",
       " 4.0      109\n",
       " 2.0       85\n",
       " 1.0       67\n",
       "-7.0        5\n",
       "Name: YearsEduc, dtype: int64"
      ]
     },
     "execution_count": 261,
     "metadata": {},
     "output_type": "execute_result"
    }
   ],
   "source": [
    "df.YearsEduc.value_counts()"
   ]
  },
  {
   "cell_type": "code",
   "execution_count": 262,
   "metadata": {},
   "outputs": [],
   "source": [
    "#create quantile buckets\n",
    "a2 = round(df['AGE'].quantile(q=0.1), 2)\n",
    "b2 = round(df['AGE'].quantile(q=0.2), 2)\n",
    "c2 = round(df['AGE'].quantile(q=0.3), 2)\n",
    "d2 = round(df['AGE'].quantile(q=0.4), 2)\n",
    "e2 = round(df['AGE'].quantile(q=0.5), 2)\n",
    "f2 = round(df['AGE'].quantile(q=0.6), 2)\n",
    "g2 = round(df['AGE'].quantile(q=0.7), 2)\n",
    "h2 = round(df['AGE'].quantile(q=0.8), 2)\n",
    "i2 = round(df['AGE'].quantile(q=0.9), 2)\n",
    "\n",
    "#Create Conditions\n",
    "conditions3 =[\n",
    "    (df['AGE'] > i2),\n",
    "    (df['AGE'].between(left=h2, right = i2)),\n",
    "    (df['AGE'].between(left=g2, right = h2)),\n",
    "    (df['AGE'].between(left=f2, right = g2)),\n",
    "    (df['AGE'].between(left=e2, right = f2)),\n",
    "    (df['AGE'].between(left=d2, right = e2)),\n",
    "    (df['AGE'].between(left=c2, right = d2)),\n",
    "    (df['AGE'].between(left=b2, right = c2)),\n",
    "    (df['AGE'].between(left=a2, right = b2)),\n",
    "    (df['AGE'] < a2)]\n",
    "\n"
   ]
  },
  {
   "cell_type": "code",
   "execution_count": 263,
   "metadata": {},
   "outputs": [],
   "source": [
    "df ['AgeGroup'] = np.select(condlist = conditions3, choicelist = choices)"
   ]
  },
  {
   "cell_type": "code",
   "execution_count": 264,
   "metadata": {},
   "outputs": [
    {
     "data": {
      "text/plain": [
       "[22.0, 27.0, 31.0, 35.0, 39.0, 43.0, 48.0, 52.0, 58.0]"
      ]
     },
     "execution_count": 264,
     "metadata": {},
     "output_type": "execute_result"
    }
   ],
   "source": [
    "amts3 = [a2,b2,c2,d2,e2,f2,g2,h2,i2]\n",
    "amts3"
   ]
  },
  {
   "cell_type": "code",
   "execution_count": 265,
   "metadata": {},
   "outputs": [
    {
     "data": {
      "text/plain": [
       "90     2292\n",
       "70     2232\n",
       "20     1909\n",
       "60     1852\n",
       "40     1739\n",
       "50     1716\n",
       "10     1662\n",
       "100    1648\n",
       "30     1588\n",
       "80     1570\n",
       "Name: AgeGroup, dtype: int64"
      ]
     },
     "execution_count": 265,
     "metadata": {},
     "output_type": "execute_result"
    }
   ],
   "source": [
    "df.AgeGroup.value_counts()"
   ]
  },
  {
   "cell_type": "code",
   "execution_count": 266,
   "metadata": {},
   "outputs": [
    {
     "data": {
      "text/plain": [
       " 1.0    6446\n",
       " 2.0    5441\n",
       " 3.0    4865\n",
       " 4.0    1072\n",
       " 5.0     296\n",
       "-1.0      79\n",
       "-9.0       4\n",
       "-8.0       3\n",
       "-7.0       2\n",
       "Name: MentalHealthX, dtype: int64"
      ]
     },
     "execution_count": 266,
     "metadata": {},
     "output_type": "execute_result"
    }
   ],
   "source": [
    "df.MentalHealthX.value_counts()"
   ]
  },
  {
   "cell_type": "code",
   "execution_count": 267,
   "metadata": {},
   "outputs": [
    {
     "data": {
      "text/plain": [
       "2.061621265377856"
      ]
     },
     "execution_count": 267,
     "metadata": {},
     "output_type": "execute_result"
    }
   ],
   "source": [
    "df.MentalHealthX.mean()"
   ]
  },
  {
   "cell_type": "code",
   "execution_count": 268,
   "metadata": {},
   "outputs": [],
   "source": [
    "#Did not drop -8, years of education isn't predictive\n",
    "#Impute Mental Health with Median\n",
    "df.loc[df.MentalHealthX == -1.0, 'MentalHealthX'] = df.MentalHealthX.mean()\n",
    "df.loc[df.MentalHealthX == -1.0, 'Mental Health'] = 'Imputed'\n",
    "df.loc[df.MentalHealthX == -9.0, 'MentalHealthX'] = df.MentalHealthX.mean()\n",
    "df.loc[df.MentalHealthX == -9.0, 'Mental Health'] = 'Imputed'\n",
    "df.loc[df.MentalHealthX == -8.0, 'MentalHealthX'] = df.MentalHealthX.mean()\n",
    "df.loc[df.MentalHealthX == -8.0, 'Mental Health'] = 'Imputed'\n",
    "df.loc[df.MentalHealthX == -7.0, 'MentalHealthX'] = df.MentalHealthX.mean()\n",
    "df.loc[df.MentalHealthX == -7.0, 'Mental Health'] = 'Imputed'"
   ]
  },
  {
   "cell_type": "code",
   "execution_count": 269,
   "metadata": {},
   "outputs": [
    {
     "data": {
      "text/plain": [
       " 90.0     2602\n",
       " 80.0     2069\n",
       " 100.0    1621\n",
       " 95.0     1493\n",
       " 85.0     1279\n",
       "-1.0      1092\n",
       " 70.0      965\n",
       "-9.0       952\n",
       " 75.0      712\n",
       " 50.0      528\n",
       " 60.0      491\n",
       " 98.0      263\n",
       " 40.0      254\n",
       " 97.0      222\n",
       " 65.0      214\n",
       " 96.0      195\n",
       " 30.0      185\n",
       " 92.0      176\n",
       " 91.0      171\n",
       " 93.0      158\n",
       " 89.0      157\n",
       " 99.0      154\n",
       " 94.0      136\n",
       " 87.0      119\n",
       " 86.0      116\n",
       " 88.0      111\n",
       " 55.0      106\n",
       " 81.0      106\n",
       " 82.0       99\n",
       " 79.0       89\n",
       "          ... \n",
       " 34.0        8\n",
       " 43.0        7\n",
       " 21.0        5\n",
       " 38.0        5\n",
       " 33.0        5\n",
       " 19.0        5\n",
       " 36.0        5\n",
       " 12.0        4\n",
       " 11.0        4\n",
       " 37.0        4\n",
       " 29.0        4\n",
       " 28.0        3\n",
       " 24.0        3\n",
       " 44.0        3\n",
       " 1.0         3\n",
       " 9.0         3\n",
       " 47.0        3\n",
       " 6.0         2\n",
       " 23.0        2\n",
       "-7.0         2\n",
       " 16.0        2\n",
       " 14.0        2\n",
       " 13.0        2\n",
       " 18.0        2\n",
       " 3.0         1\n",
       " 4.0         1\n",
       " 17.0        1\n",
       " 8.0         1\n",
       " 2.0         1\n",
       " 27.0        1\n",
       "Name: SelfPercHealthX, Length: 101, dtype: int64"
      ]
     },
     "execution_count": 269,
     "metadata": {},
     "output_type": "execute_result"
    }
   ],
   "source": [
    "df.SelfPercHealthX.value_counts()"
   ]
  },
  {
   "cell_type": "code",
   "execution_count": 270,
   "metadata": {},
   "outputs": [
    {
     "data": {
      "text/plain": [
       "71.27070518453426"
      ]
     },
     "execution_count": 270,
     "metadata": {},
     "output_type": "execute_result"
    }
   ],
   "source": [
    "df.SelfPercHealthX.median()\n",
    "df.SelfPercHealthX.mean()"
   ]
  },
  {
   "cell_type": "code",
   "execution_count": 271,
   "metadata": {},
   "outputs": [],
   "source": [
    "#Impute Self Perceived with Mean\n",
    "\n",
    "df.loc[df.SelfPercHealthX == -1.0, 'SelfPercHealthX'] = df.SelfPercHealthX.mean()\n",
    "df.loc[df.SelfPercHealthX == -9.0, 'SelfPercHealthX'] = df.SelfPercHealthX.mean()\n",
    "df.loc[df.SelfPercHealthX == -8.0, 'SelfPercHealthX'] = df.SelfPercHealthX.mean()\n",
    "df.loc[df.SelfPercHealthX == -7.0, 'SelfPercHealthX'] = df.SelfPercHealthX.mean()"
   ]
  },
  {
   "cell_type": "code",
   "execution_count": 217,
   "metadata": {},
   "outputs": [],
   "source": [
    "df.to_csv('FullDatasetCleanBucketByQuantile.csv', index = False)"
   ]
  },
  {
   "cell_type": "code",
   "execution_count": 272,
   "metadata": {},
   "outputs": [],
   "source": [
    "df.to_csv('FullDatasetCleanBucketByOver40Quantile.csv', index = False)"
   ]
  },
  {
   "cell_type": "code",
   "execution_count": 278,
   "metadata": {},
   "outputs": [],
   "source": [
    "def func(row):\n",
    "    if row['ExpensePercentile'] == 40:\n",
    "        return 'low'\n",
    "    elif row['ExpensePercentile'] == 45:\n",
    "        return 'low'\n",
    "    elif row['ExpensePercentile'] == 50:\n",
    "        return 'low'\n",
    "    elif row['ExpensePercentile'] == 55:\n",
    "        return 'low'\n",
    "    elif row['ExpensePercentile'] == 60:\n",
    "        return 'low'\n",
    "    elif row['ExpensePercentile'] == 65:\n",
    "        return 'low'\n",
    "    elif row['ExpensePercentile'] == 70:\n",
    "        return 'MID'\n",
    "    elif row['ExpensePercentile'] == 75:\n",
    "        return 'Mid'\n",
    "    elif row['ExpensePercentile'] == 80:\n",
    "        return 'Mid'\n",
    "    elif row['ExpensePercentile'] == 85:\n",
    "        return 'Mid'\n",
    "    elif row['ExpensePercentile'] == 90:\n",
    "        return 'High'\n",
    "    elif row['ExpensePercentile'] == 95:\n",
    "        return 'High'\n",
    "    else:\n",
    "        return 'High'\n",
    "\n",
    "df['ExpenseCategory'] =  df.apply(func, axis=1)"
   ]
  },
  {
   "cell_type": "code",
   "execution_count": 279,
   "metadata": {},
   "outputs": [],
   "source": [
    "df.to_csv('FullDatasetCleanBucket3.csv', index = False)"
   ]
  },
  {
   "cell_type": "code",
   "execution_count": 17,
   "metadata": {},
   "outputs": [
    {
     "data": {
      "text/plain": [
       "(18208, 40)"
      ]
     },
     "execution_count": 17,
     "metadata": {},
     "output_type": "execute_result"
    }
   ],
   "source": [
    "nf = pd.read_csv(\"FullDatasetCleanBucket3.csv\")\n",
    "nf = nf.copy()\n",
    "nf.shape"
   ]
  },
  {
   "cell_type": "code",
   "execution_count": 18,
   "metadata": {},
   "outputs": [],
   "source": [
    "#create quantile buckets\n",
    "a2 = round(nf['SelfPercHealthX'].quantile(q=0.1), 2)\n",
    "b2 = round(nf['SelfPercHealthX'].quantile(q=0.2), 2)\n",
    "c2 = round(nf['SelfPercHealthX'].quantile(q=0.3), 2)\n",
    "d2 = round(nf['SelfPercHealthX'].quantile(q=0.4), 2)\n",
    "e2 = round(nf['SelfPercHealthX'].quantile(q=0.5), 2)\n",
    "f2 = round(nf['SelfPercHealthX'].quantile(q=0.6), 2)\n",
    "g2 = round(nf['SelfPercHealthX'].quantile(q=0.7), 2)\n",
    "h2 = round(nf['SelfPercHealthX'].quantile(q=0.8), 2)\n",
    "i2 = round(nf['SelfPercHealthX'].quantile(q=0.9), 2)\n",
    "\n",
    "#Create Conditions\n",
    "conditions =[\n",
    "    (nf['SelfPercHealthX'] > i2),\n",
    "    (nf['SelfPercHealthX'].between(left=h2, right = i2)),\n",
    "    (nf['SelfPercHealthX'].between(left=g2, right = h2)),\n",
    "    (nf['SelfPercHealthX'].between(left=f2, right = g2)),\n",
    "    (nf['SelfPercHealthX'].between(left=e2, right = f2)),\n",
    "    (nf['SelfPercHealthX'].between(left=d2, right = e2)),\n",
    "    (nf['SelfPercHealthX'].between(left=c2, right = d2)),\n",
    "    (nf['SelfPercHealthX'].between(left=b2, right = c2)),\n",
    "    (nf['SelfPercHealthX'].between(left=a2, right = b2)),\n",
    "    (nf['SelfPercHealthX'] < a2)]\n",
    "\n",
    "#create choices\n",
    "choices = [\n",
    "    100, 90, 80, 70, 60, 50, 40,30,20,10\n",
    "]\n",
    "nf ['SelfPercHealthPerc'] = np.select(condlist = conditions, choicelist = choices)"
   ]
  },
  {
   "cell_type": "code",
   "execution_count": 19,
   "metadata": {},
   "outputs": [],
   "source": [
    "def func(row):\n",
    "    if row['IndustryX'] == 40:\n",
    "        return 'low'\n",
    "    elif row['ExpensePercentile'] == 45:\n",
    "        return 'low'\n",
    "    elif row['ExpensePercentile'] == 50:\n",
    "        return 'low'\n",
    "    elif row['ExpensePercentile'] == 55:\n",
    "        return 'low'\n",
    "    elif row['ExpensePercentile'] == 60:\n",
    "        return 'low'\n",
    "    elif row['ExpensePercentile'] == 65:\n",
    "        return 'low'\n",
    "    elif row['ExpensePercentile'] == 70:\n",
    "        return 'low'\n",
    "    elif row['ExpensePercentile'] == 75:\n",
    "        return 'Mid'\n",
    "    elif row['ExpensePercentile'] == 80:\n",
    "        return 'Mid'\n",
    "    elif row['ExpensePercentile'] == 85:\n",
    "        return 'Mid'\n",
    "    elif row['ExpensePercentile'] == 90:\n",
    "        return 'High'\n",
    "    elif row['ExpensePercentile'] == 95:\n",
    "        return 'High'\n",
    "    else:\n",
    "        return 'High'\n",
    "\n",
    "nf['ExpenseCategory'] =  nf.apply(func, axis=1)"
   ]
  },
  {
   "cell_type": "code",
   "execution_count": 20,
   "metadata": {},
   "outputs": [],
   "source": [
    "\n",
    "def func(row):\n",
    "    if row['IndustryX'] == 7:\n",
    "        return '1'\n",
    "    elif row['IndustryX'] == 8:\n",
    "        return '1'\n",
    "    elif row['IndustryX'] == 9:\n",
    "        return '1'\n",
    "    elif row['IndustryX'] == 13:\n",
    "        return '1'\n",
    "    elif row['IndustryX'] == 5:\n",
    "        return '2'\n",
    "    elif row['IndustryX'] == 6:\n",
    "        return '2'\n",
    "    elif row['IndustryX'] == 10:\n",
    "        return '2'\n",
    "    elif row['IndustryX'] == 11:\n",
    "        return '2'\n",
    "    elif row['IndustryX'] == 12:\n",
    "        return '2'\n",
    "    elif row['IndustryX'] == 15:\n",
    "        return '2'\n",
    "    elif row['IndustryX'] == 1:\n",
    "        return '3'\n",
    "    elif row['IndustryX'] == 2:\n",
    "        return '3'\n",
    "    elif row['IndustryX'] == 3:\n",
    "        return '3'\n",
    "    elif row['IndustryX'] == 4:\n",
    "        return '3'\n",
    "    elif row['IndustryX'] == 14:\n",
    "        return '3'\n",
    "    else:\n",
    "        return '4'\n",
    "\n",
    "nf['IndustryConsolidated'] =  nf.apply(func, axis=1)"
   ]
  },
  {
   "cell_type": "code",
   "execution_count": 22,
   "metadata": {},
   "outputs": [],
   "source": [
    "#bucket Total expenses in quantiles\n",
    "#create quantile buckets\n",
    "a1 = round(nf['TotalExpenses'].quantile(q=0.1), 2)\n",
    "b1 = round(nf['TotalExpenses'].quantile(q=0.2), 2)\n",
    "c1 = round(nf['TotalExpenses'].quantile(q=0.3), 2)\n",
    "d1 = round(nf['TotalExpenses'].quantile(q=0.4), 2)\n",
    "e1 = round(nf['TotalExpenses'].quantile(q=0.5), 2)\n",
    "f1 = round(nf['TotalExpenses'].quantile(q=0.6), 2)\n",
    "g1 = round(nf['TotalExpenses'].quantile(q=0.7), 2)\n",
    "h1 = round(nf['TotalExpenses'].quantile(q=0.8), 2)\n",
    "i1 = round(nf['TotalExpenses'].quantile(q=0.9), 2)\n",
    "\n",
    "conditions2 =[\n",
    "    (nf['TotalExpenses'] > i1),\n",
    "    (nf['TotalExpenses'].between(left=h1, right = i1)),\n",
    "    (nf['TotalExpenses'].between(left=g1, right = h1)),\n",
    "    (nf['TotalExpenses'].between(left=f1, right = g1)),\n",
    "    (nf['TotalExpenses'].between(left=e1, right = f1)),\n",
    "    (nf['TotalExpenses'].between(left=d1, right = e1)),\n",
    "    (nf['TotalExpenses'].between(left=c1, right = d1)),\n",
    "    (nf['TotalExpenses'].between(left=b1, right = c1)),\n",
    "    (nf['TotalExpenses'].between(left=a1, right = b1)),\n",
    "    (nf['TotalExpenses'] < a1)\n",
    "]\n",
    "\n",
    "nf['ExpensePercentile10'] = np.select(condlist = conditions2, choicelist = choices) "
   ]
  },
  {
   "cell_type": "code",
   "execution_count": 24,
   "metadata": {},
   "outputs": [
    {
     "data": {
      "text/plain": [
       "[0.0, 0.0, 0.0, 65.0, 155.0, 307.0, 599.0, 1390.0, 3907.8]"
      ]
     },
     "execution_count": 24,
     "metadata": {},
     "output_type": "execute_result"
    }
   ],
   "source": [
    "amts = [a1,b1,c1,d1,e1,f1,g1,h1,i1]\n",
    "amts"
   ]
  },
  {
   "cell_type": "code",
   "execution_count": 23,
   "metadata": {},
   "outputs": [],
   "source": [
    "nf.to_csv('DataSetConsolidated.csv', index = False)"
   ]
  }
 ],
 "metadata": {
  "kernelspec": {
   "display_name": "Python 3",
   "language": "python",
   "name": "python3"
  },
  "language_info": {
   "codemirror_mode": {
    "name": "ipython",
    "version": 3
   },
   "file_extension": ".py",
   "mimetype": "text/x-python",
   "name": "python",
   "nbconvert_exporter": "python",
   "pygments_lexer": "ipython3",
   "version": "3.7.3"
  }
 },
 "nbformat": 4,
 "nbformat_minor": 2
}
